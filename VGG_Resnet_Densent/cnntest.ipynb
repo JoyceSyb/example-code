{
 "cells": [
  {
   "cell_type": "code",
   "execution_count": 1,
   "metadata": {},
   "outputs": [],
   "source": [
    "import torch\n",
    "import torch.nn as nn\n",
    "import torch.nn.functional as F\n",
    "import torch.optim as optim\n",
    "import numpy as np\n",
    "import matplotlib.pyplot as plt\n",
    "%matplotlib inline\n",
    "import torchvision\n",
    "import os\n",
    "import shutil"
   ]
  },
  {
   "cell_type": "code",
   "execution_count": 2,
   "metadata": {},
   "outputs": [],
   "source": [
    "base_dir=r'./icebergAndship'"
   ]
  },
  {
   "cell_type": "code",
   "execution_count": 3,
   "metadata": {},
   "outputs": [
    {
     "ename": "FileExistsError",
     "evalue": "[WinError 183] 当文件已存在时，无法创建该文件。: './icebergAndship\\\\train'",
     "output_type": "error",
     "traceback": [
      "\u001b[1;31m---------------------------------------------------------------------------\u001b[0m",
      "\u001b[1;31mFileExistsError\u001b[0m                           Traceback (most recent call last)",
      "\u001b[1;32m<ipython-input-3-dd809ae0273a>\u001b[0m in \u001b[0;36m<module>\u001b[1;34m()\u001b[0m\n\u001b[0;32m      3\u001b[0m \u001b[0mtrain_dir\u001b[0m\u001b[1;33m=\u001b[0m\u001b[0mos\u001b[0m\u001b[1;33m.\u001b[0m\u001b[0mpath\u001b[0m\u001b[1;33m.\u001b[0m\u001b[0mjoin\u001b[0m\u001b[1;33m(\u001b[0m\u001b[0mbase_dir\u001b[0m\u001b[1;33m,\u001b[0m\u001b[1;34m'train'\u001b[0m\u001b[1;33m)\u001b[0m\u001b[1;33m\u001b[0m\u001b[0m\n\u001b[0;32m      4\u001b[0m \u001b[0mtest_dir\u001b[0m\u001b[1;33m=\u001b[0m\u001b[0mos\u001b[0m\u001b[1;33m.\u001b[0m\u001b[0mpath\u001b[0m\u001b[1;33m.\u001b[0m\u001b[0mjoin\u001b[0m\u001b[1;33m(\u001b[0m\u001b[0mbase_dir\u001b[0m\u001b[1;33m,\u001b[0m\u001b[1;34m'test'\u001b[0m\u001b[1;33m)\u001b[0m\u001b[1;33m\u001b[0m\u001b[0m\n\u001b[1;32m----> 5\u001b[1;33m \u001b[0mos\u001b[0m\u001b[1;33m.\u001b[0m\u001b[0mmkdir\u001b[0m\u001b[1;33m(\u001b[0m\u001b[0mtrain_dir\u001b[0m\u001b[1;33m)\u001b[0m\u001b[1;33m\u001b[0m\u001b[0m\n\u001b[0m\u001b[0;32m      6\u001b[0m \u001b[0mos\u001b[0m\u001b[1;33m.\u001b[0m\u001b[0mmkdir\u001b[0m\u001b[1;33m(\u001b[0m\u001b[0mtest_dir\u001b[0m\u001b[1;33m)\u001b[0m\u001b[1;33m\u001b[0m\u001b[0m\n",
      "\u001b[1;31mFileExistsError\u001b[0m: [WinError 183] 当文件已存在时，无法创建该文件。: './icebergAndship\\\\train'"
     ]
    }
   ],
   "source": [
    "#if not os.path.isdir(base_dir):\n",
    "    #os.mkdir(base_dir)\n",
    "train_dir=os.path.join(base_dir,'train')\n",
    "test_dir=os.path.join(base_dir,'test')\n",
    "os.mkdir(train_dir)\n",
    "os.mkdir(test_dir)"
   ]
  },
  {
   "cell_type": "code",
   "execution_count": 4,
   "metadata": {},
   "outputs": [
    {
     "ename": "FileExistsError",
     "evalue": "[WinError 183] 当文件已存在时，无法创建该文件。: './icebergAndship\\\\train\\\\Iceberg'",
     "output_type": "error",
     "traceback": [
      "\u001b[1;31m---------------------------------------------------------------------------\u001b[0m",
      "\u001b[1;31mFileExistsError\u001b[0m                           Traceback (most recent call last)",
      "\u001b[1;32m<ipython-input-4-75c8f78892ca>\u001b[0m in \u001b[0;36m<module>\u001b[1;34m()\u001b[0m\n\u001b[0;32m      3\u001b[0m \u001b[1;32mfor\u001b[0m \u001b[0mtrain_or_test\u001b[0m \u001b[1;32min\u001b[0m \u001b[0mdata\u001b[0m\u001b[1;33m:\u001b[0m\u001b[1;33m\u001b[0m\u001b[0m\n\u001b[0;32m      4\u001b[0m     \u001b[1;32mfor\u001b[0m \u001b[0mi\u001b[0m \u001b[1;32min\u001b[0m \u001b[0mlabels\u001b[0m\u001b[1;33m:\u001b[0m\u001b[1;33m\u001b[0m\u001b[0m\n\u001b[1;32m----> 5\u001b[1;33m         \u001b[0mos\u001b[0m\u001b[1;33m.\u001b[0m\u001b[0mmkdir\u001b[0m\u001b[1;33m(\u001b[0m\u001b[0mos\u001b[0m\u001b[1;33m.\u001b[0m\u001b[0mpath\u001b[0m\u001b[1;33m.\u001b[0m\u001b[0mjoin\u001b[0m\u001b[1;33m(\u001b[0m\u001b[0mbase_dir\u001b[0m\u001b[1;33m,\u001b[0m\u001b[0mtrain_or_test\u001b[0m\u001b[1;33m,\u001b[0m\u001b[0mi\u001b[0m\u001b[1;33m)\u001b[0m\u001b[1;33m)\u001b[0m\u001b[1;33m\u001b[0m\u001b[0m\n\u001b[0m",
      "\u001b[1;31mFileExistsError\u001b[0m: [WinError 183] 当文件已存在时，无法创建该文件。: './icebergAndship\\\\train\\\\Iceberg'"
     ]
    }
   ],
   "source": [
    "labels=['Iceberg','Ship']\n",
    "data=['train','test']\n",
    "for train_or_test in data:\n",
    "    for i in labels:\n",
    "        os.mkdir(os.path.join(base_dir,train_or_test,i))"
   ]
  },
  {
   "cell_type": "code",
   "execution_count": 5,
   "metadata": {
    "scrolled": false
   },
   "outputs": [],
   "source": [
    "image_dir=r'./output_images'"
   ]
  },
  {
   "cell_type": "code",
   "execution_count": 6,
   "metadata": {},
   "outputs": [],
   "source": [
    "for j,img in enumerate(os.listdir(image_dir)):\n",
    "    for spec in ['Iceberg','Ship']:\n",
    "        if spec in img:\n",
    "            s=os.path.join(image_dir,img)\n",
    "            if j%5==0:\n",
    "                d=os.path.join(base_dir,'test',spec,img)\n",
    "            else:\n",
    "                d=os.path.join(base_dir,'train',spec,img)\n",
    "            shutil.copy(s,d)"
   ]
  },
  {
   "cell_type": "code",
   "execution_count": 7,
   "metadata": {},
   "outputs": [],
   "source": [
    "from torchvision import transforms"
   ]
  },
  {
   "cell_type": "code",
   "execution_count": 8,
   "metadata": {},
   "outputs": [],
   "source": [
    "transform=transforms.Compose([\n",
    "    transforms.Resize((96,96)),\n",
    "    transforms.ToTensor(),\n",
    "    transforms.Normalize(mean=[0.5,0.5,0.5],std=[0.5,0.5,0.5])\n",
    "])\n",
    "train_ds=torchvision.datasets.ImageFolder(\n",
    "    train_dir,\n",
    "    transform=transform\n",
    ")\n",
    "test_ds=torchvision.datasets.ImageFolder(\n",
    "    test_dir,\n",
    "    transform=transform\n",
    ")\n",
    "BATCHSIZE=16\n",
    "train_dl=torch.utils.data.DataLoader(\n",
    "    train_ds,\n",
    "    batch_size=16,\n",
    "    shuffle=True\n",
    ")\n",
    "\n",
    "test_dl=torch.utils.data.DataLoader(\n",
    "    test_ds,\n",
    "    batch_size=16\n",
    ")"
   ]
  },
  {
   "cell_type": "code",
   "execution_count": 9,
   "metadata": {},
   "outputs": [
    {
     "data": {
      "text/plain": [
       "torch.Size([16, 3, 96, 96])"
      ]
     },
     "execution_count": 9,
     "metadata": {},
     "output_type": "execute_result"
    }
   ],
   "source": [
    "imgs,label=next(iter(train_dl))\n",
    "imgs.shape"
   ]
  },
  {
   "cell_type": "code",
   "execution_count": 10,
   "metadata": {},
   "outputs": [],
   "source": [
    "class Net(nn.Module):\n",
    "    def __init__(self):\n",
    "        super(Net,self).__init__()\n",
    "        self.conv1=nn.Conv2d(3,16,3)\n",
    "        self.conv2=nn.Conv2d(16,32,3)\n",
    "        self.conv3=nn.Conv2d(32,64,3)\n",
    "        self.pool=nn.MaxPool2d(2,2)\n",
    "        self.fc1=nn.Linear(64*10*10,1024)\n",
    "        self.fc2=nn.Linear(1024,256)\n",
    "        self.fc3=nn.Linear(256,2)\n",
    "        self.drop=nn.Dropout()\n",
    "        self.bn1=nn.BatchNorm2d(16)\n",
    "        self.bn2=nn.BatchNorm2d(32)\n",
    "        self.bn3=nn.BatchNorm2d(64)\n",
    "        self.bn_f1=nn.BatchNorm1d(1024)\n",
    "        self.bn_f2=nn.BatchNorm1d(256)\n",
    "        \n",
    "    def forward(self,x):\n",
    "        x=self.pool(F.relu(self.conv1(x)))\n",
    "        x=self.bn1(x)\n",
    "        x=self.pool(F.relu(self.conv2(x)))\n",
    "        x=self.bn2(x)\n",
    "        x=self.pool(F.relu(self.conv3(x)))\n",
    "        x=self.bn3(x)\n",
    "        x=x.view(-1,x.size(1)*x.size(2)*x.size(3))\n",
    "        x=F.relu(self.fc1(x))\n",
    "        x=self.bn_f1(x)\n",
    "        x=self.drop(x)\n",
    "        x=F.relu(self.fc2(x))\n",
    "        x=self.bn_f2(x)\n",
    "        x=self.drop(x)\n",
    "        x=self.fc3(x)\n",
    "        return x"
   ]
  },
  {
   "cell_type": "code",
   "execution_count": 11,
   "metadata": {},
   "outputs": [],
   "source": [
    "model=Net()"
   ]
  },
  {
   "cell_type": "code",
   "execution_count": 12,
   "metadata": {},
   "outputs": [],
   "source": [
    "preds=model(imgs)"
   ]
  },
  {
   "cell_type": "code",
   "execution_count": 13,
   "metadata": {},
   "outputs": [],
   "source": [
    "if torch.cuda.is_available():\n",
    "    model.to('cuda')\n",
    "loss_fn = nn.CrossEntropyLoss()\n",
    "optim = torch.optim.Adam(model.parameters(), lr=0.001)"
   ]
  },
  {
   "cell_type": "code",
   "execution_count": 14,
   "metadata": {},
   "outputs": [],
   "source": [
    "def fit(epoch, model, trainloader, testloader):\n",
    "    correct = 0\n",
    "    total = 0\n",
    "    running_loss = 0\n",
    "    model.train()\n",
    "    for x, y in trainloader:\n",
    "        if torch.cuda.is_available():\n",
    "            x, y = x.to('cuda'), y.to('cuda')\n",
    "        y_pred = model(x)\n",
    "        loss = loss_fn(y_pred, y)\n",
    "        optim.zero_grad()\n",
    "        loss.backward()\n",
    "        optim.step()\n",
    "        with torch.no_grad():\n",
    "            y_pred = torch.argmax(y_pred, dim=1)\n",
    "            correct += (y_pred == y).sum().item()\n",
    "            total += y.size(0)\n",
    "            running_loss += loss.item()\n",
    "        \n",
    "    epoch_loss = running_loss / len(trainloader)\n",
    "    epoch_acc = correct / total\n",
    "        \n",
    "        \n",
    "    test_correct = 0\n",
    "    test_total = 0\n",
    "    test_running_loss = 0 \n",
    "    model.eval()\n",
    "    with torch.no_grad():\n",
    "        for x, y in testloader:\n",
    "            if torch.cuda.is_available():\n",
    "                x, y = x.to('cuda'), y.to('cuda')\n",
    "            y_pred = model(x)\n",
    "            loss = loss_fn(y_pred, y)\n",
    "            y_pred = torch.argmax(y_pred, dim=1)\n",
    "            test_correct += (y_pred == y).sum().item()\n",
    "            test_total += y.size(0)\n",
    "            test_running_loss += loss.item()\n",
    "    \n",
    "    epoch_test_loss = test_running_loss / len(testloader)\n",
    "    epoch_test_acc = test_correct / test_total\n",
    "    \n",
    "        \n",
    "    print('epoch: ', epoch, \n",
    "          'loss： ', round(epoch_loss, 3),\n",
    "          'accuracy:', round(epoch_acc, 3),\n",
    "          'test_loss： ', round(epoch_test_loss, 3),\n",
    "          'test_accuracy:', round(epoch_test_acc, 3)\n",
    "             )\n",
    "        \n",
    "    return epoch_loss, epoch_acc, epoch_test_loss, epoch_test_acc"
   ]
  },
  {
   "cell_type": "code",
   "execution_count": 15,
   "metadata": {},
   "outputs": [
    {
     "name": "stdout",
     "output_type": "stream",
     "text": [
      "epoch:  0 loss：  0.545 accuracy: 0.739 test_loss：  0.443 test_accuracy: 0.788\n",
      "epoch:  1 loss：  0.482 accuracy: 0.784 test_loss：  0.404 test_accuracy: 0.841\n",
      "epoch:  2 loss：  0.429 accuracy: 0.802 test_loss：  0.385 test_accuracy: 0.841\n",
      "epoch:  3 loss：  0.376 accuracy: 0.829 test_loss：  0.318 test_accuracy: 0.847\n",
      "epoch:  4 loss：  0.383 accuracy: 0.829 test_loss：  0.497 test_accuracy: 0.726\n",
      "epoch:  5 loss：  0.411 accuracy: 0.798 test_loss：  0.34 test_accuracy: 0.847\n",
      "epoch:  6 loss：  0.31 accuracy: 0.861 test_loss：  0.355 test_accuracy: 0.847\n",
      "epoch:  7 loss：  0.29 accuracy: 0.867 test_loss：  0.43 test_accuracy: 0.816\n",
      "epoch:  8 loss：  0.261 accuracy: 0.892 test_loss：  0.467 test_accuracy: 0.813\n",
      "epoch:  9 loss：  0.236 accuracy: 0.914 test_loss：  0.373 test_accuracy: 0.838\n",
      "epoch:  10 loss：  0.163 accuracy: 0.941 test_loss：  0.523 test_accuracy: 0.863\n",
      "epoch:  11 loss：  0.209 accuracy: 0.92 test_loss：  0.415 test_accuracy: 0.847\n",
      "epoch:  12 loss：  0.096 accuracy: 0.96 test_loss：  0.493 test_accuracy: 0.835\n",
      "epoch:  13 loss：  0.103 accuracy: 0.967 test_loss：  0.53 test_accuracy: 0.832\n",
      "epoch:  14 loss：  0.122 accuracy: 0.958 test_loss：  0.876 test_accuracy: 0.813\n",
      "epoch:  15 loss：  0.204 accuracy: 0.924 test_loss：  0.569 test_accuracy: 0.81\n",
      "epoch:  16 loss：  0.065 accuracy: 0.981 test_loss：  0.525 test_accuracy: 0.826\n",
      "epoch:  17 loss：  0.042 accuracy: 0.986 test_loss：  0.848 test_accuracy: 0.832\n",
      "epoch:  18 loss：  0.058 accuracy: 0.977 test_loss：  0.679 test_accuracy: 0.835\n",
      "epoch:  19 loss：  0.088 accuracy: 0.975 test_loss：  0.669 test_accuracy: 0.841\n",
      "epoch:  20 loss：  0.063 accuracy: 0.97 test_loss：  0.861 test_accuracy: 0.826\n",
      "epoch:  21 loss：  0.084 accuracy: 0.975 test_loss：  0.699 test_accuracy: 0.844\n",
      "epoch:  22 loss：  0.101 accuracy: 0.966 test_loss：  0.699 test_accuracy: 0.829\n",
      "epoch:  23 loss：  0.072 accuracy: 0.98 test_loss：  0.639 test_accuracy: 0.829\n",
      "epoch:  24 loss：  0.111 accuracy: 0.962 test_loss：  0.506 test_accuracy: 0.832\n",
      "epoch:  25 loss：  0.107 accuracy: 0.971 test_loss：  0.457 test_accuracy: 0.841\n",
      "epoch:  26 loss：  0.233 accuracy: 0.903 test_loss：  0.42 test_accuracy: 0.844\n",
      "epoch:  27 loss：  0.106 accuracy: 0.961 test_loss：  0.568 test_accuracy: 0.819\n",
      "epoch:  28 loss：  0.095 accuracy: 0.97 test_loss：  0.656 test_accuracy: 0.794\n",
      "epoch:  29 loss：  0.064 accuracy: 0.978 test_loss：  0.86 test_accuracy: 0.816\n"
     ]
    }
   ],
   "source": [
    "epochs=30\n",
    "train_loss = []\n",
    "train_acc = []\n",
    "test_loss = []\n",
    "test_acc = []\n",
    "\n",
    "for epoch in range(epochs):\n",
    "    epoch_loss, epoch_acc, epoch_test_loss, epoch_test_acc = fit(epoch,\n",
    "                                                                 model,\n",
    "                                                                 train_dl,\n",
    "                                                                 test_dl)\n",
    "    train_loss.append(epoch_loss)\n",
    "    train_acc.append(epoch_acc)\n",
    "    test_loss.append(epoch_test_loss)\n",
    "    test_acc.append(epoch_test_acc)"
   ]
  },
  {
   "cell_type": "code",
   "execution_count": 16,
   "metadata": {},
   "outputs": [
    {
     "data": {
      "text/plain": [
       "<matplotlib.legend.Legend at 0x2a989456908>"
      ]
     },
     "execution_count": 16,
     "metadata": {},
     "output_type": "execute_result"
    },
    {
     "data": {
      "image/png": "[encoded data removed]",
      "text/plain": [
       "<Figure size 432x288 with 1 Axes>"
      ]
     },
     "metadata": {
      "needs_background": "light"
     },
     "output_type": "display_data"
    }
   ],
   "source": [
    "plt.plot(range(1, epochs+1), train_loss, label='train_loss')\n",
    "plt.plot(range(1, epochs+1), test_loss, label='test_loss')\n",
    "plt.legend()"
   ]
  },
  {
   "cell_type": "code",
   "execution_count": 17,
   "metadata": {},
   "outputs": [
    {
     "data": {
      "text/plain": [
       "<matplotlib.legend.Legend at 0x2a994c080f0>"
      ]
     },
     "execution_count": 17,
     "metadata": {},
     "output_type": "execute_result"
    },
    {
     "data": {
      "image/png": "[encoded data removed]",
      "text/plain": [
       "<Figure size 432x288 with 1 Axes>"
      ]
     },
     "metadata": {
      "needs_background": "light"
     },
     "output_type": "display_data"
    }
   ],
   "source": [
    "plt.plot(range(1, epochs+1), train_acc, label='train_acc')\n",
    "plt.plot(range(1, epochs+1), test_acc, label='test_acc')\n",
    "plt.legend()"
   ]
  },
  {
   "cell_type": "code",
   "execution_count": null,
   "metadata": {},
   "outputs": [],
   "source": []
  },
  {
   "cell_type": "code",
   "execution_count": null,
   "metadata": {},
   "outputs": [],
   "source": []
  }
 ],
 "metadata": {
  "kernelspec": {
   "display_name": "Python 3",
   "language": "python",
   "name": "python3"
  },
  "language_info": {
   "codemirror_mode": {
    "name": "ipython",
    "version": 3
   },
   "file_extension": ".py",
   "mimetype": "text/x-python",
   "name": "python",
   "nbconvert_exporter": "python",
   "pygments_lexer": "ipython3",
   "version": "3.7.0"
  }
 },
 "nbformat": 4,
 "nbformat_minor": 2
}
