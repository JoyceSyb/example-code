{
 "cells": [
  {
   "cell_type": "code",
   "execution_count": 1,
   "metadata": {},
   "outputs": [],
   "source": [
    "import torch\n",
    "import torch.nn as nn\n",
    "import torch.nn.functional as F\n",
    "import torch.optim as optim\n",
    "import numpy as np\n",
    "import matplotlib.pyplot as plt\n",
    "%matplotlib inline\n",
    "import shutil\n",
    "import torchvision\n",
    "from torchvision import transforms\n",
    "import os"
   ]
  },
  {
   "cell_type": "code",
   "execution_count": 2,
   "metadata": {},
   "outputs": [],
   "source": [
    "base_dir = r'./icebergAndship'\n",
    "train_dir = os.path.join(base_dir , 'train')\n",
    "test_dir = os.path.join(base_dir , 'test')   "
   ]
  },
  {
   "cell_type": "code",
   "execution_count": 3,
   "metadata": {},
   "outputs": [],
   "source": [
    "train_transform = transforms.Compose([\n",
    "    transforms.ToTensor(),\n",
    "    transforms.Normalize(mean=[.5, .5, .5], std=[.5, .5, .5])\n",
    "])\n",
    "test_transform = transforms.Compose([\n",
    "    transforms.ToTensor(),\n",
    "    transforms.Normalize(mean=[.5, .5, .5], std=[.5, .5, .5])\n",
    "])"
   ]
  },
  {
   "cell_type": "code",
   "execution_count": 4,
   "metadata": {},
   "outputs": [],
   "source": [
    "train_ds =  torchvision.datasets.ImageFolder(\n",
    "        train_dir,\n",
    "        transform=train_transform\n",
    "    )\n",
    "test_ds =  torchvision.datasets.ImageFolder(\n",
    "        test_dir,\n",
    "        transform=test_transform\n",
    "    )"
   ]
  },
  {
   "cell_type": "code",
   "execution_count": 5,
   "metadata": {},
   "outputs": [],
   "source": [
    "BTACH_SIZE = 32\n",
    "train_dl = torch.utils.data.DataLoader(\n",
    "                            train_ds,\n",
    "                            batch_size=BTACH_SIZE,\n",
    "                            shuffle=True\n",
    ")\n",
    "test_dl = torch.utils.data.DataLoader(\n",
    "                            test_ds,\n",
    "                            batch_size=BTACH_SIZE,\n",
    ")"
   ]
  },
  {
   "cell_type": "code",
   "execution_count": 6,
   "metadata": {},
   "outputs": [
    {
     "name": "stderr",
     "output_type": "stream",
     "text": [
      "D:\\anaconda\\lib\\site-packages\\torchvision\\models\\_utils.py:209: UserWarning: The parameter 'pretrained' is deprecated since 0.13 and will be removed in 0.15, please use 'weights' instead.\n",
      "  f\"The parameter '{pretrained_param}' is deprecated since 0.13 and will be removed in 0.15, \"\n",
      "D:\\anaconda\\lib\\site-packages\\torchvision\\models\\_utils.py:223: UserWarning: Arguments other than a weight enum or `None` for 'weights' are deprecated since 0.13 and will be removed in 0.15. The current behavior is equivalent to passing `weights=ResNet101_Weights.IMAGENET1K_V1`. You can also use `weights=ResNet101_Weights.DEFAULT` to get the most up-to-date weights.\n",
      "  warnings.warn(msg)\n"
     ]
    }
   ],
   "source": [
    "model = torchvision.models.resnet101(pretrained=True)"
   ]
  },
  {
   "cell_type": "code",
   "execution_count": 7,
   "metadata": {},
   "outputs": [],
   "source": [
    "for param in model.parameters():\n",
    "    param.requires_grad = False"
   ]
  },
  {
   "cell_type": "code",
   "execution_count": 8,
   "metadata": {},
   "outputs": [],
   "source": [
    "in_f = model.fc.in_features\n",
    "model.fc = nn.Linear(in_f, 2)\n",
    "if torch.cuda.is_available():\n",
    "    model.to('cuda')\n",
    "loss_fn = nn.CrossEntropyLoss()\n",
    "from torch.optim import lr_scheduler\n",
    "optimizer = torch.optim.Adam(model.fc.parameters(), lr=0.001)\n",
    "exp_lr_scheduler = lr_scheduler.StepLR(optimizer, step_size=7, gamma=0.1)"
   ]
  },
  {
   "cell_type": "code",
   "execution_count": 9,
   "metadata": {},
   "outputs": [],
   "source": [
    "def fit(epoch, model, trainloader, testloader):\n",
    "    correct = 0\n",
    "    total = 0\n",
    "    running_loss = 0\n",
    "    model.train()\n",
    "    for x, y in trainloader:\n",
    "        if torch.cuda.is_available():\n",
    "            x, y = x.to('cuda'), y.to('cuda')\n",
    "        y_pred = model(x)\n",
    "        loss = loss_fn(y_pred, y)\n",
    "        optimizer.zero_grad()\n",
    "        loss.backward()\n",
    "        optimizer.step()\n",
    "        with torch.no_grad():\n",
    "            y_pred = torch.argmax(y_pred, dim=1)\n",
    "            correct += (y_pred == y).sum().item()\n",
    "            total += y.size(0)\n",
    "            running_loss += loss.item()\n",
    "    exp_lr_scheduler.step()\n",
    "    epoch_loss = running_loss / len(trainloader.dataset)\n",
    "    epoch_acc = correct / total\n",
    "        \n",
    "        \n",
    "    test_correct = 0\n",
    "    test_total = 0\n",
    "    test_running_loss = 0 \n",
    "    \n",
    "    model.eval()\n",
    "    with torch.no_grad():\n",
    "        for x, y in testloader:\n",
    "            if torch.cuda.is_available():\n",
    "                x, y = x.to('cuda'), y.to('cuda')\n",
    "            y_pred = model(x)\n",
    "            loss = loss_fn(y_pred, y)\n",
    "            y_pred = torch.argmax(y_pred, dim=1)\n",
    "            test_correct += (y_pred == y).sum().item()\n",
    "            test_total += y.size(0)\n",
    "            test_running_loss += loss.item()\n",
    "    \n",
    "    epoch_test_loss = test_running_loss / len(testloader.dataset)\n",
    "    epoch_test_acc = test_correct / test_total\n",
    "    \n",
    "        \n",
    "    print('epoch: ', epoch, \n",
    "          'loss： ', round(epoch_loss, 3),\n",
    "          'accuracy:', round(epoch_acc, 3),\n",
    "          'test_loss： ', round(epoch_test_loss, 3),\n",
    "          'test_accuracy:', round(epoch_test_acc, 3)\n",
    "             )\n",
    "        \n",
    "    return epoch_loss, epoch_acc, epoch_test_loss, epoch_test_acc"
   ]
  },
  {
   "cell_type": "code",
   "execution_count": 10,
   "metadata": {},
   "outputs": [
    {
     "name": "stdout",
     "output_type": "stream",
     "text": [
      "epoch:  0 loss：  0.019 accuracy: 0.684 test_loss：  0.017 test_accuracy: 0.748\n",
      "epoch:  1 loss：  0.016 accuracy: 0.742 test_loss：  0.015 test_accuracy: 0.766\n",
      "epoch:  2 loss：  0.015 accuracy: 0.759 test_loss：  0.015 test_accuracy: 0.798\n",
      "epoch:  3 loss：  0.015 accuracy: 0.756 test_loss：  0.016 test_accuracy: 0.785\n",
      "epoch:  4 loss：  0.015 accuracy: 0.769 test_loss：  0.015 test_accuracy: 0.773\n",
      "epoch:  5 loss：  0.013 accuracy: 0.786 test_loss：  0.015 test_accuracy: 0.788\n",
      "epoch:  6 loss：  0.013 accuracy: 0.802 test_loss：  0.015 test_accuracy: 0.779\n",
      "epoch:  7 loss：  0.013 accuracy: 0.803 test_loss：  0.014 test_accuracy: 0.804\n",
      "epoch:  8 loss：  0.013 accuracy: 0.804 test_loss：  0.014 test_accuracy: 0.813\n",
      "epoch:  9 loss：  0.012 accuracy: 0.825 test_loss：  0.015 test_accuracy: 0.804\n",
      "epoch:  10 loss：  0.013 accuracy: 0.811 test_loss：  0.014 test_accuracy: 0.807\n",
      "epoch:  11 loss：  0.013 accuracy: 0.825 test_loss：  0.015 test_accuracy: 0.804\n",
      "epoch:  12 loss：  0.012 accuracy: 0.814 test_loss：  0.014 test_accuracy: 0.813\n",
      "epoch:  13 loss：  0.012 accuracy: 0.828 test_loss：  0.015 test_accuracy: 0.807\n",
      "epoch:  14 loss：  0.013 accuracy: 0.831 test_loss：  0.014 test_accuracy: 0.807\n",
      "epoch:  15 loss：  0.013 accuracy: 0.821 test_loss：  0.014 test_accuracy: 0.81\n",
      "epoch:  16 loss：  0.012 accuracy: 0.818 test_loss：  0.014 test_accuracy: 0.801\n",
      "epoch:  17 loss：  0.013 accuracy: 0.816 test_loss：  0.015 test_accuracy: 0.804\n",
      "epoch:  18 loss：  0.013 accuracy: 0.821 test_loss：  0.014 test_accuracy: 0.813\n",
      "epoch:  19 loss：  0.013 accuracy: 0.825 test_loss：  0.014 test_accuracy: 0.801\n",
      "epoch:  20 loss：  0.013 accuracy: 0.82 test_loss：  0.014 test_accuracy: 0.801\n",
      "epoch:  21 loss：  0.013 accuracy: 0.817 test_loss：  0.014 test_accuracy: 0.819\n",
      "epoch:  22 loss：  0.012 accuracy: 0.818 test_loss：  0.014 test_accuracy: 0.81\n",
      "epoch:  23 loss：  0.012 accuracy: 0.821 test_loss：  0.014 test_accuracy: 0.807\n",
      "epoch:  24 loss：  0.012 accuracy: 0.825 test_loss：  0.015 test_accuracy: 0.81\n",
      "epoch:  25 loss：  0.013 accuracy: 0.823 test_loss：  0.014 test_accuracy: 0.804\n",
      "epoch:  26 loss：  0.012 accuracy: 0.831 test_loss：  0.015 test_accuracy: 0.807\n",
      "epoch:  27 loss：  0.012 accuracy: 0.836 test_loss：  0.014 test_accuracy: 0.804\n",
      "epoch:  28 loss：  0.013 accuracy: 0.81 test_loss：  0.015 test_accuracy: 0.807\n",
      "epoch:  29 loss：  0.012 accuracy: 0.819 test_loss：  0.014 test_accuracy: 0.807\n"
     ]
    }
   ],
   "source": [
    "epochs = 30\n",
    "train_loss = []\n",
    "train_acc = []\n",
    "test_loss = []\n",
    "test_acc = []\n",
    "\n",
    "for epoch in range(epochs):\n",
    "    epoch_loss, epoch_acc, epoch_test_loss, epoch_test_acc = fit(epoch,\n",
    "                                                                 model,\n",
    "                                                                 train_dl,\n",
    "                                                                 test_dl)\n",
    "    train_loss.append(epoch_loss)\n",
    "    train_acc.append(epoch_acc)\n",
    "    test_loss.append(epoch_test_loss)\n",
    "    test_acc.append(epoch_test_acc)"
   ]
  },
  {
   "cell_type": "code",
   "execution_count": 11,
   "metadata": {},
   "outputs": [
    {
     "data": {
      "text/plain": [
       "<matplotlib.legend.Legend at 0x2258cfebfd0>"
      ]
     },
     "execution_count": 11,
     "metadata": {},
     "output_type": "execute_result"
    },
    {
     "data": {
      "image/png": "[encoded data removed]",
      "text/plain": [
       "<Figure size 432x288 with 1 Axes>"
      ]
     },
     "metadata": {
      "needs_background": "light"
     },
     "output_type": "display_data"
    }
   ],
   "source": [
    "plt.plot(range(1, epochs+1), train_loss, label='train_loss')\n",
    "plt.plot(range(1, epochs+1), test_loss, label='test_loss')\n",
    "plt.legend()"
   ]
  },
  {
   "cell_type": "code",
   "execution_count": 12,
   "metadata": {},
   "outputs": [
    {
     "data": {
      "text/plain": [
       "<matplotlib.legend.Legend at 0x2258dbf8a58>"
      ]
     },
     "execution_count": 12,
     "metadata": {},
     "output_type": "execute_result"
    },
    {
     "data": {
      "image/png": "[encoded data removed]",
      "text/plain": [
       "<Figure size 432x288 with 1 Axes>"
      ]
     },
     "metadata": {
      "needs_background": "light"
     },
     "output_type": "display_data"
    }
   ],
   "source": [
    "plt.plot(range(1, epochs+1), train_acc, label='train_acc')\n",
    "plt.plot(range(1, epochs+1), test_acc, label='test_acc')\n",
    "plt.legend()"
   ]
  },
  {
   "cell_type": "code",
   "execution_count": 1,
   "metadata": {},
   "outputs": [
    {
     "ename": "NameError",
     "evalue": "name 'model' is not defined",
     "output_type": "error",
     "traceback": [
      "\u001b[1;31m---------------------------------------------------------------------------\u001b[0m",
      "\u001b[1;31mNameError\u001b[0m                                 Traceback (most recent call last)",
      "\u001b[1;32m<ipython-input-1-1f8a688cae5d>\u001b[0m in \u001b[0;36m<module>\u001b[1;34m()\u001b[0m\n\u001b[1;32m----> 1\u001b[1;33m \u001b[0mmodel\u001b[0m\u001b[1;33m\u001b[0m\u001b[0m\n\u001b[0m",
      "\u001b[1;31mNameError\u001b[0m: name 'model' is not defined"
     ]
    }
   ],
   "source": [
    "model"
   ]
  },
  {
   "cell_type": "code",
   "execution_count": null,
   "metadata": {},
   "outputs": [],
   "source": []
  },
  {
   "cell_type": "code",
   "execution_count": null,
   "metadata": {},
   "outputs": [],
   "source": []
  }
 ],
 "metadata": {
  "kernelspec": {
   "display_name": "Python 3",
   "language": "python",
   "name": "python3"
  },
  "language_info": {
   "codemirror_mode": {
    "name": "ipython",
    "version": 3
   },
   "file_extension": ".py",
   "mimetype": "text/x-python",
   "name": "python",
   "nbconvert_exporter": "python",
   "pygments_lexer": "ipython3",
   "version": "3.7.0"
  }
 },
 "nbformat": 4,
 "nbformat_minor": 2
}
