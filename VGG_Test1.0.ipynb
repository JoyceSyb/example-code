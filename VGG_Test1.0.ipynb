{
 "cells": [
  {
   "cell_type": "code",
   "execution_count": 25,
   "metadata": {},
   "outputs": [],
   "source": [
    "import torch\n",
    "import torch.nn as nn\n",
    "import torch.nn.functional as F\n",
    "import torch.optim as optim\n",
    "import numpy as np\n",
    "import matplotlib.pyplot as plt\n",
    "%matplotlib inline\n",
    "import shutil\n",
    "import torchvision\n",
    "from torchvision import transforms\n",
    "import os"
   ]
  },
  {
   "cell_type": "code",
   "execution_count": 26,
   "metadata": {},
   "outputs": [],
   "source": [
    "base_dir=r'./icebergAndship'\n",
    "if not os.path.isdir(base_dir):\n",
    "    os.mkdir(base_dir)\n",
    "    train_dir=os.path.join(base_dir,'train')\n",
    "    test_dir=os.path.join(base_dir,'test')\n",
    "    os.mkdir(train_dir)\n",
    "    os.mkdir(test_dir)"
   ]
  },
  {
   "cell_type": "code",
   "execution_count": 27,
   "metadata": {},
   "outputs": [
    {
     "ename": "FileExistsError",
     "evalue": "[WinError 183] 当文件已存在时，无法创建该文件。: './icebergAndship\\\\train\\\\Iceberg'",
     "output_type": "error",
     "traceback": [
      "\u001b[1;31m---------------------------------------------------------------------------\u001b[0m",
      "\u001b[1;31mFileExistsError\u001b[0m                           Traceback (most recent call last)",
      "\u001b[1;32m<ipython-input-27-6df317e92d20>\u001b[0m in \u001b[0;36m<module>\u001b[1;34m()\u001b[0m\n\u001b[0;32m      2\u001b[0m \u001b[1;32mfor\u001b[0m \u001b[0mtrain_or_test\u001b[0m \u001b[1;32min\u001b[0m \u001b[1;33m[\u001b[0m\u001b[1;34m'train'\u001b[0m\u001b[1;33m,\u001b[0m\u001b[1;34m'test'\u001b[0m\u001b[1;33m]\u001b[0m\u001b[1;33m:\u001b[0m\u001b[1;33m\u001b[0m\u001b[0m\n\u001b[0;32m      3\u001b[0m     \u001b[1;32mfor\u001b[0m \u001b[0mi\u001b[0m \u001b[1;32min\u001b[0m \u001b[0mlabels\u001b[0m\u001b[1;33m:\u001b[0m\u001b[1;33m\u001b[0m\u001b[0m\n\u001b[1;32m----> 4\u001b[1;33m         \u001b[0mos\u001b[0m\u001b[1;33m.\u001b[0m\u001b[0mmkdir\u001b[0m\u001b[1;33m(\u001b[0m\u001b[0mos\u001b[0m\u001b[1;33m.\u001b[0m\u001b[0mpath\u001b[0m\u001b[1;33m.\u001b[0m\u001b[0mjoin\u001b[0m\u001b[1;33m(\u001b[0m\u001b[0mbase_dir\u001b[0m\u001b[1;33m,\u001b[0m\u001b[0mtrain_or_test\u001b[0m\u001b[1;33m,\u001b[0m\u001b[0mi\u001b[0m\u001b[1;33m)\u001b[0m\u001b[1;33m)\u001b[0m\u001b[1;33m\u001b[0m\u001b[0m\n\u001b[0m",
      "\u001b[1;31mFileExistsError\u001b[0m: [WinError 183] 当文件已存在时，无法创建该文件。: './icebergAndship\\\\train\\\\Iceberg'"
     ]
    }
   ],
   "source": [
    "labels=['Iceberg','Ship']\n",
    "for train_or_test in ['train','test']:\n",
    "    for i in labels:\n",
    "        os.mkdir(os.path.join(base_dir,train_or_test,i))"
   ]
  },
  {
   "cell_type": "code",
   "execution_count": 28,
   "metadata": {},
   "outputs": [],
   "source": [
    "img_dir=r'./output_images'\n",
    "for j,img in enumerate(os.listdir(img_dir)):\n",
    "    for spec in ['Iceberg','Ship']:\n",
    "        if spec in img:\n",
    "            s=os.path.join(img_dir,img)\n",
    "            if j%5==0:\n",
    "                d=os.path.join(base_dir,'test',spec,img)\n",
    "            else:\n",
    "                d=os.path.join(base_dir,'train',spec,img)\n",
    "            shutil.copy(s,d)"
   ]
  },
  {
   "cell_type": "code",
   "execution_count": 29,
   "metadata": {},
   "outputs": [],
   "source": [
    "from torchvision import transforms"
   ]
  },
  {
   "cell_type": "code",
   "execution_count": 31,
   "metadata": {},
   "outputs": [],
   "source": [
    "train_dir=os.path.join(base_dir,'train')\n",
    "test_dir=os.path.join(base_dir,'test')\n",
    "train_transform = transforms.Compose([\n",
    "    transforms.RandomResizedCrop(192, scale=(0.6,1.0), ratio=(0.8,1.0)),\n",
    "    transforms.RandomHorizontalFlip(),\n",
    "    transforms.RandomRotation(0.2),\n",
    "    torchvision.transforms.ColorJitter(brightness=0.5, contrast=0, saturation=0, hue=0),\n",
    "    torchvision.transforms.ColorJitter(brightness=0, contrast=0.5, saturation=0, hue=0),\n",
    "    transforms.ToTensor(),\n",
    "    transforms.Normalize(mean=[.5, .5, .5], std=[.5, .5, .5])\n",
    "])\n",
    "test_transform = transforms.Compose([\n",
    "    transforms.Resize((192, 192)),\n",
    "    transforms.ToTensor(),\n",
    "    transforms.Normalize(mean=[.5, .5, .5], std=[.5, .5, .5])\n",
    "])\n",
    "train_ds =  torchvision.datasets.ImageFolder(\n",
    "        train_dir,\n",
    "        transform=train_transform\n",
    "    )\n",
    "test_ds =  torchvision.datasets.ImageFolder(\n",
    "        test_dir,\n",
    "        transform=test_transform\n",
    "    )"
   ]
  },
  {
   "cell_type": "code",
   "execution_count": 33,
   "metadata": {},
   "outputs": [],
   "source": [
    "train_dl = torch.utils.data.DataLoader(\n",
    "                            train_ds,\n",
    "                            batch_size=30,\n",
    "                            shuffle=True\n",
    ")\n",
    "test_dl = torch.utils.data.DataLoader(\n",
    "                            test_ds,\n",
    "                            batch_size=30,\n",
    ")"
   ]
  },
  {
   "cell_type": "code",
   "execution_count": 34,
   "metadata": {},
   "outputs": [
    {
     "name": "stderr",
     "output_type": "stream",
     "text": [
      "D:\\anaconda\\lib\\site-packages\\torchvision\\models\\_utils.py:209: UserWarning: The parameter 'pretrained' is deprecated since 0.13 and will be removed in 0.15, please use 'weights' instead.\n",
      "  f\"The parameter '{pretrained_param}' is deprecated since 0.13 and will be removed in 0.15, \"\n",
      "D:\\anaconda\\lib\\site-packages\\torchvision\\models\\_utils.py:223: UserWarning: Arguments other than a weight enum or `None` for 'weights' are deprecated since 0.13 and will be removed in 0.15. The current behavior is equivalent to passing `weights=VGG16_Weights.IMAGENET1K_V1`. You can also use `weights=VGG16_Weights.DEFAULT` to get the most up-to-date weights.\n",
      "  warnings.warn(msg)\n",
      "Downloading: \"https://download.pytorch.org/models/vgg16-397923af.pth\" to C:\\Users\\dsd/.cache\\torch\\hub\\checkpoints\\vgg16-397923af.pth\n",
      "100%|███████████████████████████████████████████████████████████████████████████████| 528M/528M [01:13<00:00, 7.52MB/s]\n"
     ]
    }
   ],
   "source": [
    "model = torchvision.models.vgg16(pretrained=True)"
   ]
  },
  {
   "cell_type": "code",
   "execution_count": 35,
   "metadata": {},
   "outputs": [],
   "source": [
    "for param in model.features.parameters():\n",
    "    param.requires_grad = False"
   ]
  },
  {
   "cell_type": "code",
   "execution_count": 36,
   "metadata": {},
   "outputs": [],
   "source": [
    "model.classifier[-1].out_features = 2"
   ]
  },
  {
   "cell_type": "code",
   "execution_count": 37,
   "metadata": {},
   "outputs": [],
   "source": [
    "if torch.cuda.is_available():\n",
    "    model.to('cuda')\n",
    "loss_fn = nn.CrossEntropyLoss()\n",
    "from torch.optim import lr_scheduler\n",
    "optimizer = torch.optim.Adam(model.classifier.parameters(), lr=0.001)\n",
    "exp_lr_scheduler = lr_scheduler.StepLR(optimizer, step_size=7, gamma=0.1)\n",
    "def fit(epoch, model, trainloader, testloader):\n",
    "    correct = 0\n",
    "    total = 0\n",
    "    running_loss = 0\n",
    "    for x, y in trainloader:\n",
    "        if torch.cuda.is_available():\n",
    "            x, y = x.to('cuda'), y.to('cuda')\n",
    "        y_pred = model(x)\n",
    "        loss = loss_fn(y_pred, y)\n",
    "        optimizer.zero_grad()\n",
    "        loss.backward()\n",
    "        optimizer.step()\n",
    "        with torch.no_grad():\n",
    "            y_pred = torch.argmax(y_pred, dim=1)\n",
    "            correct += (y_pred == y).sum().item()\n",
    "            total += y.size(0)\n",
    "            running_loss += loss.item()\n",
    "    exp_lr_scheduler.step()\n",
    "    epoch_loss = running_loss / len(trainloader.dataset)\n",
    "    epoch_acc = correct / total\n",
    "        \n",
    "        \n",
    "    test_correct = 0\n",
    "    test_total = 0\n",
    "    test_running_loss = 0 \n",
    "    \n",
    "    with torch.no_grad():\n",
    "        for x, y in testloader:\n",
    "            if torch.cuda.is_available():\n",
    "                x, y = x.to('cuda'), y.to('cuda')\n",
    "            y_pred = model(x)\n",
    "            loss = loss_fn(y_pred, y)\n",
    "            y_pred = torch.argmax(y_pred, dim=1)\n",
    "            test_correct += (y_pred == y).sum().item()\n",
    "            test_total += y.size(0)\n",
    "            test_running_loss += loss.item()\n",
    "    \n",
    "    epoch_test_loss = test_running_loss / len(testloader.dataset)\n",
    "    epoch_test_acc = test_correct / test_total\n",
    "    \n",
    "        \n",
    "    print('epoch: ', epoch, \n",
    "          'loss： ', round(epoch_loss, 3),\n",
    "          'accuracy:', round(epoch_acc, 3),\n",
    "          'test_loss： ', round(epoch_test_loss, 3),\n",
    "          'test_accuracy:', round(epoch_test_acc, 3)\n",
    "             )\n",
    "        \n",
    "    return epoch_loss, epoch_acc, epoch_test_loss, epoch_test_acc"
   ]
  },
  {
   "cell_type": "code",
   "execution_count": 38,
   "metadata": {},
   "outputs": [
    {
     "name": "stdout",
     "output_type": "stream",
     "text": [
      "epoch:  0 loss：  0.047 accuracy: 0.575 test_loss：  0.028 test_accuracy: 0.583\n",
      "epoch:  1 loss：  0.021 accuracy: 0.669 test_loss：  0.019 test_accuracy: 0.717\n",
      "epoch:  2 loss：  0.018 accuracy: 0.727 test_loss：  0.016 test_accuracy: 0.788\n",
      "epoch:  3 loss：  0.018 accuracy: 0.737 test_loss：  0.018 test_accuracy: 0.723\n",
      "epoch:  4 loss：  0.017 accuracy: 0.727 test_loss：  0.015 test_accuracy: 0.769\n",
      "epoch:  5 loss：  0.017 accuracy: 0.741 test_loss：  0.015 test_accuracy: 0.757\n",
      "epoch:  6 loss：  0.018 accuracy: 0.74 test_loss：  0.015 test_accuracy: 0.773\n",
      "epoch:  7 loss：  0.015 accuracy: 0.761 test_loss：  0.015 test_accuracy: 0.785\n",
      "epoch:  8 loss：  0.014 accuracy: 0.776 test_loss：  0.014 test_accuracy: 0.819\n",
      "epoch:  9 loss：  0.013 accuracy: 0.792 test_loss：  0.013 test_accuracy: 0.822\n",
      "epoch:  10 loss：  0.013 accuracy: 0.797 test_loss：  0.013 test_accuracy: 0.822\n",
      "epoch:  11 loss：  0.013 accuracy: 0.8 test_loss：  0.013 test_accuracy: 0.816\n",
      "epoch:  12 loss：  0.013 accuracy: 0.776 test_loss：  0.013 test_accuracy: 0.826\n",
      "epoch:  13 loss：  0.013 accuracy: 0.794 test_loss：  0.013 test_accuracy: 0.813\n",
      "epoch:  14 loss：  0.012 accuracy: 0.807 test_loss：  0.013 test_accuracy: 0.835\n",
      "epoch:  15 loss：  0.012 accuracy: 0.806 test_loss：  0.013 test_accuracy: 0.807\n",
      "epoch:  16 loss：  0.012 accuracy: 0.816 test_loss：  0.013 test_accuracy: 0.813\n",
      "epoch:  17 loss：  0.012 accuracy: 0.811 test_loss：  0.013 test_accuracy: 0.832\n",
      "epoch:  18 loss：  0.012 accuracy: 0.829 test_loss：  0.013 test_accuracy: 0.822\n",
      "epoch:  19 loss：  0.013 accuracy: 0.8 test_loss：  0.013 test_accuracy: 0.816\n",
      "epoch:  20 loss：  0.012 accuracy: 0.821 test_loss：  0.013 test_accuracy: 0.826\n",
      "epoch:  21 loss：  0.013 accuracy: 0.807 test_loss：  0.013 test_accuracy: 0.81\n",
      "epoch:  22 loss：  0.012 accuracy: 0.812 test_loss：  0.013 test_accuracy: 0.813\n",
      "epoch:  23 loss：  0.013 accuracy: 0.821 test_loss：  0.012 test_accuracy: 0.826\n",
      "epoch:  24 loss：  0.012 accuracy: 0.818 test_loss：  0.013 test_accuracy: 0.822\n",
      "epoch:  25 loss：  0.012 accuracy: 0.805 test_loss：  0.013 test_accuracy: 0.829\n",
      "epoch:  26 loss：  0.012 accuracy: 0.81 test_loss：  0.013 test_accuracy: 0.832\n",
      "epoch:  27 loss：  0.012 accuracy: 0.806 test_loss：  0.013 test_accuracy: 0.838\n",
      "epoch:  28 loss：  0.012 accuracy: 0.812 test_loss：  0.013 test_accuracy: 0.829\n",
      "epoch:  29 loss：  0.012 accuracy: 0.811 test_loss：  0.012 test_accuracy: 0.819\n"
     ]
    }
   ],
   "source": [
    "epochs = 30\n",
    "train_loss = []\n",
    "train_acc = []\n",
    "test_loss = []\n",
    "test_acc = []\n",
    "\n",
    "for epoch in range(epochs):\n",
    "    epoch_loss, epoch_acc, epoch_test_loss, epoch_test_acc = fit(epoch,\n",
    "                                                                 model,\n",
    "                                                                 train_dl,\n",
    "                                                                 test_dl)\n",
    "    train_loss.append(epoch_loss)\n",
    "    train_acc.append(epoch_acc)\n",
    "    test_loss.append(epoch_test_loss)\n",
    "    test_acc.append(epoch_test_acc)"
   ]
  },
  {
   "cell_type": "code",
   "execution_count": 39,
   "metadata": {},
   "outputs": [
    {
     "data": {
      "text/plain": [
       "<matplotlib.legend.Legend at 0x1bb27a36198>"
      ]
     },
     "execution_count": 39,
     "metadata": {},
     "output_type": "execute_result"
    },
    {
     "data": {
      "image/png": "[encoded data removed]",
      "text/plain": [
       "<Figure size 432x288 with 1 Axes>"
      ]
     },
     "metadata": {
      "needs_background": "light"
     },
     "output_type": "display_data"
    }
   ],
   "source": [
    "plt.plot(range(1, epochs+1), train_loss, label='train_loss')\n",
    "plt.plot(range(1, epochs+1), test_loss, label='test_loss')\n",
    "plt.legend()"
   ]
  },
  {
   "cell_type": "code",
   "execution_count": 40,
   "metadata": {},
   "outputs": [
    {
     "data": {
      "text/plain": [
       "<matplotlib.legend.Legend at 0x1bb330a9dd8>"
      ]
     },
     "execution_count": 40,
     "metadata": {},
     "output_type": "execute_result"
    },
    {
     "data": {
      "image/png": "[encoded data removed]",
      "text/plain": [
       "<Figure size 432x288 with 1 Axes>"
      ]
     },
     "metadata": {
      "needs_background": "light"
     },
     "output_type": "display_data"
    }
   ],
   "source": [
    "plt.plot(range(1, epochs+1), train_acc, label='train_acc')\n",
    "plt.plot(range(1, epochs+1), test_acc, label='test_acc')\n",
    "plt.legend()"
   ]
  },
  {
   "cell_type": "code",
   "execution_count": null,
   "metadata": {},
   "outputs": [],
   "source": []
  }
 ],
 "metadata": {
  "kernelspec": {
   "display_name": "Python 3",
   "language": "python",
   "name": "python3"
  },
  "language_info": {
   "codemirror_mode": {
    "name": "ipython",
    "version": 3
   },
   "file_extension": ".py",
   "mimetype": "text/x-python",
   "name": "python",
   "nbconvert_exporter": "python",
   "pygments_lexer": "ipython3",
   "version": "3.7.0"
  }
 },
 "nbformat": 4,
 "nbformat_minor": 2
}
